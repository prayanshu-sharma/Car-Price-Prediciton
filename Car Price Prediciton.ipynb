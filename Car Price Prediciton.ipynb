{
 "cells": [
  {
   "cell_type": "code",
   "execution_count": 19,
   "id": "5cb2082d-84a5-4050-b1c2-ae04b1b78f69",
   "metadata": {},
   "outputs": [],
   "source": [
    "import pandas as pd\n",
    "import seaborn as sns\n",
    "import matplotlib.pyplot as plt\n",
    "from sklearn.preprocessing import  LabelEncoder    #for label encoding the data\n",
    "from sklearn.preprocessing import StandardScaler   # for scaling data\n",
    "from sklearn.model_selection import train_test_split   #for training and testing the data"
   ]
  },
  {
   "cell_type": "code",
   "execution_count": 21,
   "id": "14c367d6-985e-4da4-b26a-7008f2b87a0b",
   "metadata": {},
   "outputs": [],
   "source": [
    "data=pd.read_csv(r\"C:\\Users\\praya\\Downloads\\Car Dataset\\car data.csv\")"
   ]
  },
  {
   "cell_type": "code",
   "execution_count": 23,
   "id": "075040db-a969-4f32-afd3-2c5eb50c8bbd",
   "metadata": {},
   "outputs": [
    {
     "data": {
      "text/html": [
       "<div>\n",
       "<style scoped>\n",
       "    .dataframe tbody tr th:only-of-type {\n",
       "        vertical-align: middle;\n",
       "    }\n",
       "\n",
       "    .dataframe tbody tr th {\n",
       "        vertical-align: top;\n",
       "    }\n",
       "\n",
       "    .dataframe thead th {\n",
       "        text-align: right;\n",
       "    }\n",
       "</style>\n",
       "<table border=\"1\" class=\"dataframe\">\n",
       "  <thead>\n",
       "    <tr style=\"text-align: right;\">\n",
       "      <th></th>\n",
       "      <th>Car_Name</th>\n",
       "      <th>Year</th>\n",
       "      <th>Present_Price</th>\n",
       "      <th>Kms_Driven</th>\n",
       "      <th>Fuel_Type</th>\n",
       "      <th>Seller_Type</th>\n",
       "      <th>Transmission</th>\n",
       "      <th>Owner</th>\n",
       "      <th>Selling_Price</th>\n",
       "    </tr>\n",
       "  </thead>\n",
       "  <tbody>\n",
       "    <tr>\n",
       "      <th>0</th>\n",
       "      <td>ritz</td>\n",
       "      <td>2014</td>\n",
       "      <td>5.59</td>\n",
       "      <td>27000</td>\n",
       "      <td>Petrol</td>\n",
       "      <td>Dealer</td>\n",
       "      <td>Manual</td>\n",
       "      <td>0</td>\n",
       "      <td>3.35</td>\n",
       "    </tr>\n",
       "    <tr>\n",
       "      <th>1</th>\n",
       "      <td>sx4</td>\n",
       "      <td>2013</td>\n",
       "      <td>9.54</td>\n",
       "      <td>43000</td>\n",
       "      <td>Diesel</td>\n",
       "      <td>Dealer</td>\n",
       "      <td>Manual</td>\n",
       "      <td>0</td>\n",
       "      <td>4.75</td>\n",
       "    </tr>\n",
       "    <tr>\n",
       "      <th>2</th>\n",
       "      <td>ciaz</td>\n",
       "      <td>2017</td>\n",
       "      <td>9.85</td>\n",
       "      <td>6900</td>\n",
       "      <td>Petrol</td>\n",
       "      <td>Dealer</td>\n",
       "      <td>Manual</td>\n",
       "      <td>0</td>\n",
       "      <td>7.25</td>\n",
       "    </tr>\n",
       "    <tr>\n",
       "      <th>3</th>\n",
       "      <td>wagon r</td>\n",
       "      <td>2011</td>\n",
       "      <td>4.15</td>\n",
       "      <td>5200</td>\n",
       "      <td>Petrol</td>\n",
       "      <td>Dealer</td>\n",
       "      <td>Manual</td>\n",
       "      <td>0</td>\n",
       "      <td>2.85</td>\n",
       "    </tr>\n",
       "  </tbody>\n",
       "</table>\n",
       "</div>"
      ],
      "text/plain": [
       "  Car_Name  Year  Present_Price  Kms_Driven Fuel_Type Seller_Type  \\\n",
       "0     ritz  2014           5.59       27000    Petrol      Dealer   \n",
       "1      sx4  2013           9.54       43000    Diesel      Dealer   \n",
       "2     ciaz  2017           9.85        6900    Petrol      Dealer   \n",
       "3  wagon r  2011           4.15        5200    Petrol      Dealer   \n",
       "\n",
       "  Transmission  Owner  Selling_Price  \n",
       "0       Manual      0           3.35  \n",
       "1       Manual      0           4.75  \n",
       "2       Manual      0           7.25  \n",
       "3       Manual      0           2.85  "
      ]
     },
     "execution_count": 23,
     "metadata": {},
     "output_type": "execute_result"
    }
   ],
   "source": [
    "data.head(4)"
   ]
  },
  {
   "cell_type": "markdown",
   "id": "c5a0805a-6723-4960-b14f-20a2dd274353",
   "metadata": {},
   "source": [
    "# In this Car dataset we will apply regression type of supervised machine learning algorithm because of continous nature of selling price"
   ]
  },
  {
   "cell_type": "code",
   "execution_count": 26,
   "id": "0004820c-9a80-4c7f-9432-528800a38c81",
   "metadata": {},
   "outputs": [
    {
     "data": {
      "text/plain": [
       "Car_Name         0\n",
       "Year             0\n",
       "Present_Price    0\n",
       "Kms_Driven       0\n",
       "Fuel_Type        0\n",
       "Seller_Type      0\n",
       "Transmission     0\n",
       "Owner            0\n",
       "Selling_Price    0\n",
       "dtype: int64"
      ]
     },
     "execution_count": 26,
     "metadata": {},
     "output_type": "execute_result"
    }
   ],
   "source": [
    "data.isnull().sum()"
   ]
  },
  {
   "cell_type": "code",
   "execution_count": 28,
   "id": "75c9148d-42e6-41d3-a4fd-cfa691df45b6",
   "metadata": {},
   "outputs": [
    {
     "name": "stdout",
     "output_type": "stream",
     "text": [
      "<class 'pandas.core.frame.DataFrame'>\n",
      "RangeIndex: 301 entries, 0 to 300\n",
      "Data columns (total 9 columns):\n",
      " #   Column         Non-Null Count  Dtype  \n",
      "---  ------         --------------  -----  \n",
      " 0   Car_Name       301 non-null    object \n",
      " 1   Year           301 non-null    int64  \n",
      " 2   Present_Price  301 non-null    float64\n",
      " 3   Kms_Driven     301 non-null    int64  \n",
      " 4   Fuel_Type      301 non-null    object \n",
      " 5   Seller_Type    301 non-null    object \n",
      " 6   Transmission   301 non-null    object \n",
      " 7   Owner          301 non-null    int64  \n",
      " 8   Selling_Price  301 non-null    float64\n",
      "dtypes: float64(2), int64(3), object(4)\n",
      "memory usage: 21.3+ KB\n"
     ]
    }
   ],
   "source": [
    "data.info()"
   ]
  },
  {
   "cell_type": "code",
   "execution_count": 30,
   "id": "f7f1e399-e56d-4a61-8945-c5d9bd9bc4d1",
   "metadata": {},
   "outputs": [
    {
     "data": {
      "text/plain": [
       "Car_Name\n",
       "city                        26\n",
       "corolla altis               16\n",
       "verna                       14\n",
       "fortuner                    11\n",
       "brio                        10\n",
       "                            ..\n",
       "Honda CB Trigger             1\n",
       "Yamaha FZ S                  1\n",
       "Bajaj Pulsar 135 LS          1\n",
       "Activa 4g                    1\n",
       "Bajaj Avenger Street 220     1\n",
       "Name: count, Length: 98, dtype: int64"
      ]
     },
     "execution_count": 30,
     "metadata": {},
     "output_type": "execute_result"
    }
   ],
   "source": [
    "data['Car_Name'].value_counts()"
   ]
  },
  {
   "cell_type": "code",
   "execution_count": 32,
   "id": "5d3db847-5e37-4282-9871-30eb5a589f77",
   "metadata": {},
   "outputs": [
    {
     "data": {
      "text/plain": [
       "array(['ritz', 'sx4', 'ciaz', 'wagon r', 'swift', 'vitara brezza',\n",
       "       's cross', 'alto 800', 'ertiga', 'dzire', 'alto k10', 'ignis',\n",
       "       '800', 'baleno', 'omni', 'fortuner', 'innova', 'corolla altis',\n",
       "       'etios cross', 'etios g', 'etios liva', 'corolla', 'etios gd',\n",
       "       'camry', 'land cruiser', 'Royal Enfield Thunder 500',\n",
       "       'UM Renegade Mojave', 'KTM RC200', 'Bajaj Dominar 400',\n",
       "       'Royal Enfield Classic 350', 'KTM RC390', 'Hyosung GT250R',\n",
       "       'Royal Enfield Thunder 350', 'KTM 390 Duke ',\n",
       "       'Mahindra Mojo XT300', 'Bajaj Pulsar RS200',\n",
       "       'Royal Enfield Bullet 350', 'Royal Enfield Classic 500',\n",
       "       'Bajaj Avenger 220', 'Bajaj Avenger 150', 'Honda CB Hornet 160R',\n",
       "       'Yamaha FZ S V 2.0', 'Yamaha FZ 16', 'TVS Apache RTR 160',\n",
       "       'Bajaj Pulsar 150', 'Honda CBR 150', 'Hero Extreme',\n",
       "       'Bajaj Avenger 220 dtsi', 'Bajaj Avenger 150 street',\n",
       "       'Yamaha FZ  v 2.0', 'Bajaj Pulsar  NS 200', 'Bajaj Pulsar 220 F',\n",
       "       'TVS Apache RTR 180', 'Hero Passion X pro', 'Bajaj Pulsar NS 200',\n",
       "       'Yamaha Fazer ', 'Honda Activa 4G', 'TVS Sport ',\n",
       "       'Honda Dream Yuga ', 'Bajaj Avenger Street 220',\n",
       "       'Hero Splender iSmart', 'Activa 3g', 'Hero Passion Pro',\n",
       "       'Honda CB Trigger', 'Yamaha FZ S ', 'Bajaj Pulsar 135 LS',\n",
       "       'Activa 4g', 'Honda CB Unicorn', 'Hero Honda CBZ extreme',\n",
       "       'Honda Karizma', 'Honda Activa 125', 'TVS Jupyter',\n",
       "       'Hero Honda Passion Pro', 'Hero Splender Plus', 'Honda CB Shine',\n",
       "       'Bajaj Discover 100', 'Suzuki Access 125', 'TVS Wego',\n",
       "       'Honda CB twister', 'Hero Glamour', 'Hero Super Splendor',\n",
       "       'Bajaj Discover 125', 'Hero Hunk', 'Hero  Ignitor Disc',\n",
       "       'Hero  CBZ Xtreme', 'Bajaj  ct 100', 'i20', 'grand i10', 'i10',\n",
       "       'eon', 'xcent', 'elantra', 'creta', 'verna', 'city', 'brio',\n",
       "       'amaze', 'jazz'], dtype=object)"
      ]
     },
     "execution_count": 32,
     "metadata": {},
     "output_type": "execute_result"
    }
   ],
   "source": [
    "data.Car_Name.unique()"
   ]
  },
  {
   "cell_type": "code",
   "execution_count": 34,
   "id": "80194d0f-ea5a-4a35-8b75-1d321cf81f32",
   "metadata": {},
   "outputs": [],
   "source": [
    "#we will converting object data type value into numeric(integer) value so we will apply label encoding on each column wise"
   ]
  },
  {
   "cell_type": "markdown",
   "id": "cab47065-a880-4221-b15a-e66ca0a0e74b",
   "metadata": {},
   "source": [
    "# car name Label Encoding"
   ]
  },
  {
   "cell_type": "code",
   "execution_count": 37,
   "id": "a73fc7d9-f221-4c6b-8500-1600134058e1",
   "metadata": {},
   "outputs": [],
   "source": [
    "car_name_le=LabelEncoder()\n",
    "data['Car_Name']=car_name_le.fit_transform(data['Car_Name'])"
   ]
  },
  {
   "cell_type": "markdown",
   "id": "7948cd0e-f7fd-402b-9440-e7ce31e1701e",
   "metadata": {},
   "source": [
    "# Fuel type Label Encoding"
   ]
  },
  {
   "cell_type": "code",
   "execution_count": 40,
   "id": "43d7da18-86bf-41be-9ff6-0afccd98afc8",
   "metadata": {},
   "outputs": [],
   "source": [
    "fuel_type_le=LabelEncoder()\n",
    "data['Fuel_Type']=fuel_type_le.fit_transform(data['Fuel_Type'])"
   ]
  },
  {
   "cell_type": "markdown",
   "id": "80742691-61c9-422c-88f8-fb9a991548ce",
   "metadata": {},
   "source": [
    "# Seller type Label Encoding"
   ]
  },
  {
   "cell_type": "code",
   "execution_count": 43,
   "id": "42c39a91-3c8d-471c-80c1-f0a6c5dd58eb",
   "metadata": {},
   "outputs": [],
   "source": [
    "seller_type_le=LabelEncoder()\n",
    "data['Seller_Type']=seller_type_le.fit_transform(data['Seller_Type'])"
   ]
  },
  {
   "cell_type": "markdown",
   "id": "1cb87250-2c8f-46e5-8e8c-282d8373343e",
   "metadata": {},
   "source": [
    "# Transmission Label Encoding"
   ]
  },
  {
   "cell_type": "code",
   "execution_count": 46,
   "id": "739a5bc1-05bc-447a-92a0-9cc14cee3a28",
   "metadata": {},
   "outputs": [],
   "source": [
    "Transmission_le=LabelEncoder()\n",
    "data['Transmission']=Transmission_le.fit_transform(data['Transmission'])"
   ]
  },
  {
   "cell_type": "code",
   "execution_count": null,
   "id": "5b8093e4-46f6-493d-8357-ac8f1415fdf6",
   "metadata": {},
   "outputs": [],
   "source": []
  },
  {
   "cell_type": "code",
   "execution_count": 49,
   "id": "265f6831-b514-4e49-b692-ea46ee02169a",
   "metadata": {},
   "outputs": [],
   "source": [
    "input_data=data.iloc[:,:-1]\n",
    "output_data=data['Selling_Price']"
   ]
  },
  {
   "cell_type": "code",
   "execution_count": null,
   "id": "5adb5e6a-5a96-47ff-ada3-692379a08fde",
   "metadata": {},
   "outputs": [],
   "source": []
  },
  {
   "cell_type": "code",
   "execution_count": 52,
   "id": "28f7eb94-ede5-4ddb-acb4-ed967fb7de15",
   "metadata": {},
   "outputs": [
    {
     "data": {
      "image/png": "[encoded data removed]",
      "text/plain": [
       "<Figure size 640x480 with 2 Axes>"
      ]
     },
     "metadata": {},
     "output_type": "display_data"
    }
   ],
   "source": [
    "sns.heatmap(data=data.corr(),annot=True)\n",
    "plt.show()"
   ]
  },
  {
   "cell_type": "code",
   "execution_count": 54,
   "id": "dd049a1f-790a-41b1-ab1b-de7eb3c8219b",
   "metadata": {},
   "outputs": [],
   "source": [
    "# we will using scaling making of inbalencing data into balence data,so that we will apply scaling on input data in supervised learning."
   ]
  },
  {
   "cell_type": "code",
   "execution_count": 56,
   "id": "6308313b-61e1-4c29-b433-fd872a89ab77",
   "metadata": {},
   "outputs": [],
   "source": [
    "ss=StandardScaler()\n",
    "input_data=pd.DataFrame(ss.fit_transform(input_data),columns=input_data.columns)"
   ]
  },
  {
   "cell_type": "raw",
   "id": "5fbb15fd-9325-4462-935f-4ee5ffb7b6f2",
   "metadata": {},
   "source": [
    "# now our input data is scaling "
   ]
  },
  {
   "cell_type": "raw",
   "id": "359d9e10-96e4-467a-8e60-817ec2fc8dbd",
   "metadata": {},
   "source": []
  },
  {
   "cell_type": "code",
   "execution_count": 58,
   "id": "3c1aabfd-4ae8-49ae-a406-c5791739350e",
   "metadata": {},
   "outputs": [
    {
     "data": {
      "text/html": [
       "<div>\n",
       "<style scoped>\n",
       "    .dataframe tbody tr th:only-of-type {\n",
       "        vertical-align: middle;\n",
       "    }\n",
       "\n",
       "    .dataframe tbody tr th {\n",
       "        vertical-align: top;\n",
       "    }\n",
       "\n",
       "    .dataframe thead th {\n",
       "        text-align: right;\n",
       "    }\n",
       "</style>\n",
       "<table border=\"1\" class=\"dataframe\">\n",
       "  <thead>\n",
       "    <tr style=\"text-align: right;\">\n",
       "      <th></th>\n",
       "      <th>Car_Name</th>\n",
       "      <th>Year</th>\n",
       "      <th>Present_Price</th>\n",
       "      <th>Kms_Driven</th>\n",
       "      <th>Fuel_Type</th>\n",
       "      <th>Seller_Type</th>\n",
       "      <th>Transmission</th>\n",
       "      <th>Owner</th>\n",
       "    </tr>\n",
       "  </thead>\n",
       "  <tbody>\n",
       "    <tr>\n",
       "      <th>0</th>\n",
       "      <td>1.074323</td>\n",
       "      <td>0.128897</td>\n",
       "      <td>-0.236215</td>\n",
       "      <td>-0.256224</td>\n",
       "      <td>0.500183</td>\n",
       "      <td>-0.737285</td>\n",
       "      <td>0.39148</td>\n",
       "      <td>-0.174501</td>\n",
       "    </tr>\n",
       "    <tr>\n",
       "      <th>1</th>\n",
       "      <td>1.191828</td>\n",
       "      <td>-0.217514</td>\n",
       "      <td>0.221505</td>\n",
       "      <td>0.155911</td>\n",
       "      <td>-1.852241</td>\n",
       "      <td>-0.737285</td>\n",
       "      <td>0.39148</td>\n",
       "      <td>-0.174501</td>\n",
       "    </tr>\n",
       "    <tr>\n",
       "      <th>2</th>\n",
       "      <td>0.212627</td>\n",
       "      <td>1.168129</td>\n",
       "      <td>0.257427</td>\n",
       "      <td>-0.773969</td>\n",
       "      <td>0.500183</td>\n",
       "      <td>-0.737285</td>\n",
       "      <td>0.39148</td>\n",
       "      <td>-0.174501</td>\n",
       "    </tr>\n",
       "    <tr>\n",
       "      <th>3</th>\n",
       "      <td>1.309332</td>\n",
       "      <td>-0.910335</td>\n",
       "      <td>-0.403079</td>\n",
       "      <td>-0.817758</td>\n",
       "      <td>0.500183</td>\n",
       "      <td>-0.737285</td>\n",
       "      <td>0.39148</td>\n",
       "      <td>-0.174501</td>\n",
       "    </tr>\n",
       "    <tr>\n",
       "      <th>4</th>\n",
       "      <td>1.152659</td>\n",
       "      <td>0.128897</td>\n",
       "      <td>-0.087890</td>\n",
       "      <td>0.141743</td>\n",
       "      <td>-1.852241</td>\n",
       "      <td>-0.737285</td>\n",
       "      <td>0.39148</td>\n",
       "      <td>-0.174501</td>\n",
       "    </tr>\n",
       "    <tr>\n",
       "      <th>...</th>\n",
       "      <td>...</td>\n",
       "      <td>...</td>\n",
       "      <td>...</td>\n",
       "      <td>...</td>\n",
       "      <td>...</td>\n",
       "      <td>...</td>\n",
       "      <td>...</td>\n",
       "      <td>...</td>\n",
       "    </tr>\n",
       "    <tr>\n",
       "      <th>296</th>\n",
       "      <td>0.251795</td>\n",
       "      <td>0.821718</td>\n",
       "      <td>0.460214</td>\n",
       "      <td>-0.076225</td>\n",
       "      <td>-1.852241</td>\n",
       "      <td>-0.737285</td>\n",
       "      <td>0.39148</td>\n",
       "      <td>-0.174501</td>\n",
       "    </tr>\n",
       "    <tr>\n",
       "      <th>297</th>\n",
       "      <td>0.134290</td>\n",
       "      <td>0.475308</td>\n",
       "      <td>-0.200292</td>\n",
       "      <td>0.593804</td>\n",
       "      <td>0.500183</td>\n",
       "      <td>-0.737285</td>\n",
       "      <td>0.39148</td>\n",
       "      <td>-0.174501</td>\n",
       "    </tr>\n",
       "    <tr>\n",
       "      <th>298</th>\n",
       "      <td>0.251795</td>\n",
       "      <td>-1.603156</td>\n",
       "      <td>0.390687</td>\n",
       "      <td>1.313340</td>\n",
       "      <td>0.500183</td>\n",
       "      <td>-0.737285</td>\n",
       "      <td>0.39148</td>\n",
       "      <td>-0.174501</td>\n",
       "    </tr>\n",
       "    <tr>\n",
       "      <th>299</th>\n",
       "      <td>0.251795</td>\n",
       "      <td>1.168129</td>\n",
       "      <td>0.564504</td>\n",
       "      <td>-0.719876</td>\n",
       "      <td>-1.852241</td>\n",
       "      <td>-0.737285</td>\n",
       "      <td>0.39148</td>\n",
       "      <td>-0.174501</td>\n",
       "    </tr>\n",
       "    <tr>\n",
       "      <th>300</th>\n",
       "      <td>0.134290</td>\n",
       "      <td>0.821718</td>\n",
       "      <td>-0.200292</td>\n",
       "      <td>-0.810958</td>\n",
       "      <td>0.500183</td>\n",
       "      <td>-0.737285</td>\n",
       "      <td>0.39148</td>\n",
       "      <td>-0.174501</td>\n",
       "    </tr>\n",
       "  </tbody>\n",
       "</table>\n",
       "<p>301 rows × 8 columns</p>\n",
       "</div>"
      ],
      "text/plain": [
       "     Car_Name      Year  Present_Price  Kms_Driven  Fuel_Type  Seller_Type  \\\n",
       "0    1.074323  0.128897      -0.236215   -0.256224   0.500183    -0.737285   \n",
       "1    1.191828 -0.217514       0.221505    0.155911  -1.852241    -0.737285   \n",
       "2    0.212627  1.168129       0.257427   -0.773969   0.500183    -0.737285   \n",
       "3    1.309332 -0.910335      -0.403079   -0.817758   0.500183    -0.737285   \n",
       "4    1.152659  0.128897      -0.087890    0.141743  -1.852241    -0.737285   \n",
       "..        ...       ...            ...         ...        ...          ...   \n",
       "296  0.251795  0.821718       0.460214   -0.076225  -1.852241    -0.737285   \n",
       "297  0.134290  0.475308      -0.200292    0.593804   0.500183    -0.737285   \n",
       "298  0.251795 -1.603156       0.390687    1.313340   0.500183    -0.737285   \n",
       "299  0.251795  1.168129       0.564504   -0.719876  -1.852241    -0.737285   \n",
       "300  0.134290  0.821718      -0.200292   -0.810958   0.500183    -0.737285   \n",
       "\n",
       "     Transmission     Owner  \n",
       "0         0.39148 -0.174501  \n",
       "1         0.39148 -0.174501  \n",
       "2         0.39148 -0.174501  \n",
       "3         0.39148 -0.174501  \n",
       "4         0.39148 -0.174501  \n",
       "..            ...       ...  \n",
       "296       0.39148 -0.174501  \n",
       "297       0.39148 -0.174501  \n",
       "298       0.39148 -0.174501  \n",
       "299       0.39148 -0.174501  \n",
       "300       0.39148 -0.174501  \n",
       "\n",
       "[301 rows x 8 columns]"
      ]
     },
     "execution_count": 58,
     "metadata": {},
     "output_type": "execute_result"
    }
   ],
   "source": [
    "input_data"
   ]
  },
  {
   "cell_type": "code",
   "execution_count": 60,
   "id": "8bba89a6-6846-48ed-9c1c-fae13b5c1c9b",
   "metadata": {},
   "outputs": [],
   "source": [
    "x_train,x_test,y_train,y_test= train_test_split(input_data,output_data,test_size=0.2,random_state=42)"
   ]
  },
  {
   "cell_type": "code",
   "execution_count": null,
   "id": "a8dbae67-5538-4139-a88f-28f182039782",
   "metadata": {},
   "outputs": [],
   "source": []
  },
  {
   "cell_type": "code",
   "execution_count": null,
   "id": "e5d61f90-6195-472c-91fb-513a03914ad4",
   "metadata": {},
   "outputs": [],
   "source": []
  },
  {
   "cell_type": "code",
   "execution_count": 130,
   "id": "c7fbf3ac-e2e2-4c53-83f6-3b3fa2164e9f",
   "metadata": {},
   "outputs": [],
   "source": [
    "from sklearn.linear_model import LinearRegression,Lasso,Ridge,ElasticNet\n",
    "from sklearn.tree import DecisionTreeRegressor\n",
    "from sklearn.svm import SVR\n",
    "from sklearn.neighbors import KNeighborsRegressor\n",
    "from sklearn.ensemble import RandomForestRegressor\n",
    "from sklearn.metrics import mean_squared_error,mean_absolute_error   # to find out error in machine learning algorithm"
   ]
  },
  {
   "cell_type": "code",
   "execution_count": null,
   "id": "d5f25758-6458-401c-99c8-ceda7519c699",
   "metadata": {},
   "outputs": [],
   "source": []
  },
  {
   "cell_type": "markdown",
   "id": "8ae2b4ee-7f84-4d96-afab-3617ea6f9df7",
   "metadata": {},
   "source": [
    "# we will check all machine learning algorithm one by one and find out which gives best results in this car dataset"
   ]
  },
  {
   "cell_type": "markdown",
   "id": "a909bf52-330f-4e7a-a25c-1e55959aa2aa",
   "metadata": {},
   "source": [
    "# LinearRegression"
   ]
  },
  {
   "cell_type": "code",
   "execution_count": 174,
   "id": "0e8ef386-9197-4d31-8c5f-614179ad7d04",
   "metadata": {},
   "outputs": [
    {
     "data": {
      "text/plain": [
       "(88.40630578239454, 84.65539666857805)"
      ]
     },
     "execution_count": 174,
     "metadata": {},
     "output_type": "execute_result"
    }
   ],
   "source": [
    "lr=LinearRegression()\n",
    "lr.fit(x_train,y_train)\n",
    "lr.score(x_train,y_train)*100,lr.score(x_test,y_test)*100"
   ]
  },
  {
   "cell_type": "code",
   "execution_count": null,
   "id": "10e5f0da-dd08-46e3-8808-d6d2f4ca929f",
   "metadata": {},
   "outputs": [],
   "source": []
  },
  {
   "cell_type": "code",
   "execution_count": 176,
   "id": "bdcb1b3f-cb3b-478a-bb79-1d76415297c4",
   "metadata": {},
   "outputs": [
    {
     "data": {
      "text/plain": [
       "(3.5347190697129753, 1.2142339415047017)"
      ]
     },
     "execution_count": 176,
     "metadata": {},
     "output_type": "execute_result"
    }
   ],
   "source": [
    "# to check out error in machine learning model\n",
    "mean_squared_error(y_test,lr.predict(x_test)),mean_absolute_error(y_test,lr.predict(x_test))"
   ]
  },
  {
   "cell_type": "code",
   "execution_count": null,
   "id": "9d6b945e-8be0-4688-aef0-7edc712828b4",
   "metadata": {},
   "outputs": [],
   "source": []
  },
  {
   "cell_type": "markdown",
   "id": "1e4b40ae-ea48-4bc8-ac49-8268a6abb628",
   "metadata": {},
   "source": [
    "# Lasso"
   ]
  },
  {
   "cell_type": "code",
   "execution_count": 79,
   "id": "aebc85ba-81f5-4637-81e8-8dea69ca43ee",
   "metadata": {},
   "outputs": [
    {
     "data": {
      "text/plain": [
       "(88.35433202380113, 84.42023265451037)"
      ]
     },
     "execution_count": 79,
     "metadata": {},
     "output_type": "execute_result"
    }
   ],
   "source": [
    "lr1=Lasso(alpha=0.05)\n",
    "lr1.fit(x_train,y_train)\n",
    "lr1.score(x_train,y_train)*100,lr1.score(x_test,y_test)*100"
   ]
  },
  {
   "cell_type": "code",
   "execution_count": null,
   "id": "d8085902-16dc-4bd8-9886-3177cbf707df",
   "metadata": {},
   "outputs": [],
   "source": []
  },
  {
   "cell_type": "markdown",
   "id": "8357af42-6865-428c-b85c-ca094fe8e0a6",
   "metadata": {},
   "source": [
    "# Ridge"
   ]
  },
  {
   "cell_type": "code",
   "execution_count": 83,
   "id": "805750be-60ac-4ef8-b790-dbc85c354526",
   "metadata": {},
   "outputs": [
    {
     "data": {
      "text/plain": [
       "(88.37406606333195, 84.42238212828163)"
      ]
     },
     "execution_count": 83,
     "metadata": {},
     "output_type": "execute_result"
    }
   ],
   "source": [
    "lr2=Ridge(alpha=5)\n",
    "lr2.fit(x_train,y_train)\n",
    "lr2.score(x_train,y_train)*100,lr2.score(x_test,y_test)*100"
   ]
  },
  {
   "cell_type": "code",
   "execution_count": null,
   "id": "9924d0c1-54cb-4c2f-bf2a-7e291641c95a",
   "metadata": {},
   "outputs": [],
   "source": []
  },
  {
   "cell_type": "markdown",
   "id": "01af14a2-2549-4212-949a-1eaa402d7400",
   "metadata": {},
   "source": [
    "# ElasticNet"
   ]
  },
  {
   "cell_type": "code",
   "execution_count": 87,
   "id": "dd4952a0-8617-456d-bfa0-5621f32caa6a",
   "metadata": {},
   "outputs": [
    {
     "data": {
      "text/plain": [
       "(88.33239931760652, 84.24688675401035)"
      ]
     },
     "execution_count": 87,
     "metadata": {},
     "output_type": "execute_result"
    }
   ],
   "source": [
    "lr3=ElasticNet(alpha=0.05)\n",
    "lr3.fit(x_train,y_train)\n",
    "lr3.score(x_train,y_train)*100,lr3.score(x_test,y_test)*100"
   ]
  },
  {
   "cell_type": "code",
   "execution_count": null,
   "id": "9efaea2c-00de-4411-b20d-80402511da32",
   "metadata": {},
   "outputs": [],
   "source": []
  },
  {
   "cell_type": "markdown",
   "id": "f7d57066-3367-4e33-9d47-ce9f2b2d6d7a",
   "metadata": {},
   "source": [
    "# DecisionTreeRegressor"
   ]
  },
  {
   "cell_type": "code",
   "execution_count": 172,
   "id": "5a78aeb2-5367-4760-a3e2-cc20b6db676e",
   "metadata": {},
   "outputs": [
    {
     "data": {
      "text/plain": [
       "(100.0, 94.73194236602262)"
      ]
     },
     "execution_count": 172,
     "metadata": {},
     "output_type": "execute_result"
    }
   ],
   "source": [
    "dt=DecisionTreeRegressor(max_depth=15)\n",
    "dt.fit(x_train,y_train)\n",
    "dt.score(x_train,y_train)*100,dt.score(x_test,y_test)*100"
   ]
  },
  {
   "cell_type": "code",
   "execution_count": null,
   "id": "0b91f37e-444b-45fc-bed8-9cddbc97ab23",
   "metadata": {},
   "outputs": [],
   "source": []
  },
  {
   "cell_type": "code",
   "execution_count": 170,
   "id": "4fdef392-0195-4618-9373-415535f23c90",
   "metadata": {},
   "outputs": [
    {
     "data": {
      "text/plain": [
       "(0.820449180327869, 0.5950819672131147)"
      ]
     },
     "execution_count": 170,
     "metadata": {},
     "output_type": "execute_result"
    }
   ],
   "source": [
    "# to check out error in machine learning model\n",
    "mean_squared_error(y_test,dt.predict(x_test)),mean_absolute_error(y_test,dt.predict(x_test))"
   ]
  },
  {
   "cell_type": "code",
   "execution_count": null,
   "id": "eb2be430-145e-4526-b4ec-137a02b200ad",
   "metadata": {},
   "outputs": [],
   "source": []
  },
  {
   "cell_type": "markdown",
   "id": "865cb262-fa09-461e-82d6-dcd990adfd65",
   "metadata": {},
   "source": [
    "# RandomForestRegressor"
   ]
  },
  {
   "cell_type": "code",
   "execution_count": 120,
   "id": "59433057-cb42-4d7f-ba54-30bf1207ea00",
   "metadata": {},
   "outputs": [
    {
     "data": {
      "text/plain": [
       "(98.32138548287794, 96.45204036417722)"
      ]
     },
     "execution_count": 120,
     "metadata": {},
     "output_type": "execute_result"
    }
   ],
   "source": [
    "rf=RandomForestRegressor(n_estimators=100)\n",
    "rf.fit(x_train,y_train)\n",
    "rf.score(x_train,y_train)*100,rf.score(x_test,y_test)*100"
   ]
  },
  {
   "cell_type": "code",
   "execution_count": null,
   "id": "00a02807-f339-4810-87ba-2b39d0ae9d7e",
   "metadata": {},
   "outputs": [],
   "source": []
  },
  {
   "cell_type": "code",
   "execution_count": 168,
   "id": "984fcf84-ae26-4120-a03e-ec038fb2313d",
   "metadata": {},
   "outputs": [
    {
     "data": {
      "text/plain": [
       "(0.8172932406557385, 0.5956229508196725)"
      ]
     },
     "execution_count": 168,
     "metadata": {},
     "output_type": "execute_result"
    }
   ],
   "source": [
    "mean_squared_error(y_test,rf.predict(x_test)),mean_absolute_error(y_test,rf.predict(x_test))"
   ]
  },
  {
   "cell_type": "markdown",
   "id": "8502ce90-0043-4e5c-b980-1844de5b03a8",
   "metadata": {},
   "source": [
    "# SVR"
   ]
  },
  {
   "cell_type": "code",
   "execution_count": 164,
   "id": "8bd3ffda-2608-4dc2-a7f0-2390af9614e8",
   "metadata": {},
   "outputs": [
    {
     "data": {
      "text/plain": [
       "(66.00840380338376, 78.48466914602926)"
      ]
     },
     "execution_count": 164,
     "metadata": {},
     "output_type": "execute_result"
    }
   ],
   "source": [
    "svr=SVR()\n",
    "svr.fit(x_train,y_train)\n",
    "svr.score(x_train,y_train)*100,svr.score(x_test,y_test)*100"
   ]
  },
  {
   "cell_type": "code",
   "execution_count": null,
   "id": "b7c4f049-a5b9-4164-84d9-db815a9d42b5",
   "metadata": {},
   "outputs": [],
   "source": []
  },
  {
   "cell_type": "code",
   "execution_count": 160,
   "id": "837182dc-64b4-429f-9805-8fefadd0ff17",
   "metadata": {},
   "outputs": [
    {
     "data": {
      "text/plain": [
       "(4.956182223686515, 0.9945642205689338)"
      ]
     },
     "execution_count": 160,
     "metadata": {},
     "output_type": "execute_result"
    }
   ],
   "source": [
    "# to check out error in machine learning model\n",
    "mean_squared_error(y_test,svr.predict(x_test)),mean_absolute_error(y_test,svr.predict(x_test))"
   ]
  },
  {
   "cell_type": "code",
   "execution_count": null,
   "id": "ce32fc09-1881-4c65-9c9d-ac1a1ced4eef",
   "metadata": {},
   "outputs": [],
   "source": []
  },
  {
   "cell_type": "markdown",
   "id": "96c6d9fc-b80a-40b5-9fba-0711bb51335f",
   "metadata": {},
   "source": [
    "# KNeighborsRegressor"
   ]
  },
  {
   "cell_type": "code",
   "execution_count": 166,
   "id": "7951fc01-c0d9-4af1-acb6-8b6771adacf3",
   "metadata": {},
   "outputs": [
    {
     "data": {
      "text/plain": [
       "(100.0, 93.25859819138705)"
      ]
     },
     "execution_count": 166,
     "metadata": {},
     "output_type": "execute_result"
    }
   ],
   "source": [
    "knn=KNeighborsRegressor(n_neighbors=1)\n",
    "knn.fit(x_train,y_train)\n",
    "knn.score(x_train,y_train)*100,knn.score(x_test,y_test)*100"
   ]
  },
  {
   "cell_type": "code",
   "execution_count": null,
   "id": "7037a757-5125-4778-9432-adac4b1d9b62",
   "metadata": {},
   "outputs": [],
   "source": []
  },
  {
   "cell_type": "code",
   "execution_count": 156,
   "id": "09eb0d11-f59e-4dca-8232-6c21e9cecb03",
   "metadata": {},
   "outputs": [
    {
     "data": {
      "text/plain": [
       "(1.5529213114754101, 0.8406557377049181)"
      ]
     },
     "execution_count": 156,
     "metadata": {},
     "output_type": "execute_result"
    }
   ],
   "source": [
    "# to check out error in machine learning model\n",
    "mean_squared_error(y_test,knn.predict(x_test)),mean_absolute_error(y_test,knn.predict(x_test))"
   ]
  },
  {
   "cell_type": "code",
   "execution_count": null,
   "id": "298c2b80-2da8-4ef2-a02e-a491889c5643",
   "metadata": {},
   "outputs": [],
   "source": []
  },
  {
   "cell_type": "code",
   "execution_count": null,
   "id": "2af719dc-fa1a-447e-a85a-68e1fb744400",
   "metadata": {},
   "outputs": [],
   "source": []
  },
  {
   "cell_type": "code",
   "execution_count": 180,
   "id": "46a45289-9905-44b6-9288-dbb9945e539e",
   "metadata": {},
   "outputs": [
    {
     "name": "stderr",
     "output_type": "stream",
     "text": [
      "C:\\Users\\praya\\anaconda3\\Lib\\site-packages\\sklearn\\base.py:493: UserWarning: X does not have valid feature names, but RandomForestRegressor was fitted with feature names\n",
      "  warnings.warn(\n"
     ]
    },
    {
     "data": {
      "text/plain": [
       "array([0.4435])"
      ]
     },
     "execution_count": 180,
     "metadata": {},
     "output_type": "execute_result"
    }
   ],
   "source": [
    "rf.predict([[-1.275759,0.821718\t,-0.817924\t,-0.333500\t,0.500183\t,1.356327\t,-2.554408\t,-0.174501]])"
   ]
  },
  {
   "cell_type": "code",
   "execution_count": 178,
   "id": "872482eb-9099-4214-902d-61f443a9dfe1",
   "metadata": {},
   "outputs": [
    {
     "data": {
      "text/html": [
       "<div>\n",
       "<style scoped>\n",
       "    .dataframe tbody tr th:only-of-type {\n",
       "        vertical-align: middle;\n",
       "    }\n",
       "\n",
       "    .dataframe tbody tr th {\n",
       "        vertical-align: top;\n",
       "    }\n",
       "\n",
       "    .dataframe thead th {\n",
       "        text-align: right;\n",
       "    }\n",
       "</style>\n",
       "<table border=\"1\" class=\"dataframe\">\n",
       "  <thead>\n",
       "    <tr style=\"text-align: right;\">\n",
       "      <th></th>\n",
       "      <th>Car_Name</th>\n",
       "      <th>Year</th>\n",
       "      <th>Present_Price</th>\n",
       "      <th>Kms_Driven</th>\n",
       "      <th>Fuel_Type</th>\n",
       "      <th>Seller_Type</th>\n",
       "      <th>Transmission</th>\n",
       "      <th>Owner</th>\n",
       "    </tr>\n",
       "  </thead>\n",
       "  <tbody>\n",
       "    <tr>\n",
       "      <th>177</th>\n",
       "      <td>-1.275759</td>\n",
       "      <td>0.821718</td>\n",
       "      <td>-0.817924</td>\n",
       "      <td>-0.333500</td>\n",
       "      <td>0.500183</td>\n",
       "      <td>1.356327</td>\n",
       "      <td>-2.554408</td>\n",
       "      <td>-0.174501</td>\n",
       "    </tr>\n",
       "    <tr>\n",
       "      <th>289</th>\n",
       "      <td>0.251795</td>\n",
       "      <td>0.821718</td>\n",
       "      <td>0.691970</td>\n",
       "      <td>-0.668875</td>\n",
       "      <td>0.500183</td>\n",
       "      <td>-0.737285</td>\n",
       "      <td>0.391480</td>\n",
       "      <td>-0.174501</td>\n",
       "    </tr>\n",
       "    <tr>\n",
       "      <th>228</th>\n",
       "      <td>1.230996</td>\n",
       "      <td>-0.563924</td>\n",
       "      <td>0.205282</td>\n",
       "      <td>0.593804</td>\n",
       "      <td>-1.852241</td>\n",
       "      <td>-0.737285</td>\n",
       "      <td>0.391480</td>\n",
       "      <td>-0.174501</td>\n",
       "    </tr>\n",
       "    <tr>\n",
       "      <th>198</th>\n",
       "      <td>-2.059120</td>\n",
       "      <td>-0.910335</td>\n",
       "      <td>-0.817924</td>\n",
       "      <td>-0.050157</td>\n",
       "      <td>0.500183</td>\n",
       "      <td>1.356327</td>\n",
       "      <td>0.391480</td>\n",
       "      <td>3.865859</td>\n",
       "    </tr>\n",
       "    <tr>\n",
       "      <th>60</th>\n",
       "      <td>0.330131</td>\n",
       "      <td>-0.217514</td>\n",
       "      <td>1.272521</td>\n",
       "      <td>0.078661</td>\n",
       "      <td>0.500183</td>\n",
       "      <td>-0.737285</td>\n",
       "      <td>0.391480</td>\n",
       "      <td>-0.174501</td>\n",
       "    </tr>\n",
       "    <tr>\n",
       "      <th>...</th>\n",
       "      <td>...</td>\n",
       "      <td>...</td>\n",
       "      <td>...</td>\n",
       "      <td>...</td>\n",
       "      <td>...</td>\n",
       "      <td>...</td>\n",
       "      <td>...</td>\n",
       "      <td>...</td>\n",
       "    </tr>\n",
       "    <tr>\n",
       "      <th>234</th>\n",
       "      <td>0.760979</td>\n",
       "      <td>0.475308</td>\n",
       "      <td>-0.223468</td>\n",
       "      <td>-0.835995</td>\n",
       "      <td>0.500183</td>\n",
       "      <td>-0.737285</td>\n",
       "      <td>0.391480</td>\n",
       "      <td>-0.174501</td>\n",
       "    </tr>\n",
       "    <tr>\n",
       "      <th>296</th>\n",
       "      <td>0.251795</td>\n",
       "      <td>0.821718</td>\n",
       "      <td>0.460214</td>\n",
       "      <td>-0.076225</td>\n",
       "      <td>-1.852241</td>\n",
       "      <td>-0.737285</td>\n",
       "      <td>0.391480</td>\n",
       "      <td>-0.174501</td>\n",
       "    </tr>\n",
       "    <tr>\n",
       "      <th>281</th>\n",
       "      <td>0.251795</td>\n",
       "      <td>-2.642389</td>\n",
       "      <td>-0.003299</td>\n",
       "      <td>0.347965</td>\n",
       "      <td>0.500183</td>\n",
       "      <td>-0.737285</td>\n",
       "      <td>0.391480</td>\n",
       "      <td>-0.174501</td>\n",
       "    </tr>\n",
       "    <tr>\n",
       "      <th>285</th>\n",
       "      <td>0.956819</td>\n",
       "      <td>0.821718</td>\n",
       "      <td>0.100991</td>\n",
       "      <td>-0.563806</td>\n",
       "      <td>0.500183</td>\n",
       "      <td>-0.737285</td>\n",
       "      <td>-2.554408</td>\n",
       "      <td>-0.174501</td>\n",
       "    </tr>\n",
       "    <tr>\n",
       "      <th>182</th>\n",
       "      <td>-1.158255</td>\n",
       "      <td>-0.217514</td>\n",
       "      <td>-0.816765</td>\n",
       "      <td>-0.178949</td>\n",
       "      <td>0.500183</td>\n",
       "      <td>1.356327</td>\n",
       "      <td>0.391480</td>\n",
       "      <td>-0.174501</td>\n",
       "    </tr>\n",
       "  </tbody>\n",
       "</table>\n",
       "<p>61 rows × 8 columns</p>\n",
       "</div>"
      ],
      "text/plain": [
       "     Car_Name      Year  Present_Price  Kms_Driven  Fuel_Type  Seller_Type  \\\n",
       "177 -1.275759  0.821718      -0.817924   -0.333500   0.500183     1.356327   \n",
       "289  0.251795  0.821718       0.691970   -0.668875   0.500183    -0.737285   \n",
       "228  1.230996 -0.563924       0.205282    0.593804  -1.852241    -0.737285   \n",
       "198 -2.059120 -0.910335      -0.817924   -0.050157   0.500183     1.356327   \n",
       "60   0.330131 -0.217514       1.272521    0.078661   0.500183    -0.737285   \n",
       "..        ...       ...            ...         ...        ...          ...   \n",
       "234  0.760979  0.475308      -0.223468   -0.835995   0.500183    -0.737285   \n",
       "296  0.251795  0.821718       0.460214   -0.076225  -1.852241    -0.737285   \n",
       "281  0.251795 -2.642389      -0.003299    0.347965   0.500183    -0.737285   \n",
       "285  0.956819  0.821718       0.100991   -0.563806   0.500183    -0.737285   \n",
       "182 -1.158255 -0.217514      -0.816765   -0.178949   0.500183     1.356327   \n",
       "\n",
       "     Transmission     Owner  \n",
       "177     -2.554408 -0.174501  \n",
       "289      0.391480 -0.174501  \n",
       "228      0.391480 -0.174501  \n",
       "198      0.391480  3.865859  \n",
       "60       0.391480 -0.174501  \n",
       "..            ...       ...  \n",
       "234      0.391480 -0.174501  \n",
       "296      0.391480 -0.174501  \n",
       "281      0.391480 -0.174501  \n",
       "285     -2.554408 -0.174501  \n",
       "182      0.391480 -0.174501  \n",
       "\n",
       "[61 rows x 8 columns]"
      ]
     },
     "execution_count": 178,
     "metadata": {},
     "output_type": "execute_result"
    }
   ],
   "source": [
    "x_test"
   ]
  },
  {
   "cell_type": "code",
   "execution_count": 182,
   "id": "859861f5-e436-4624-a47d-39509e55157d",
   "metadata": {},
   "outputs": [
    {
     "data": {
      "text/plain": [
       "177     0.35\n",
       "289    10.11\n",
       "228     4.95\n",
       "198     0.15\n",
       "60      6.95\n",
       "       ...  \n",
       "234     5.50\n",
       "296     9.50\n",
       "281     2.10\n",
       "285     7.40\n",
       "182     0.30\n",
       "Name: Selling_Price, Length: 61, dtype: float64"
      ]
     },
     "execution_count": 182,
     "metadata": {},
     "output_type": "execute_result"
    }
   ],
   "source": [
    "y_test"
   ]
  },
  {
   "cell_type": "code",
   "execution_count": null,
   "id": "04e25de3-5f22-4d1c-b785-b7bb775741d5",
   "metadata": {},
   "outputs": [],
   "source": []
  },
  {
   "cell_type": "code",
   "execution_count": null,
   "id": "db1d8bce-a67a-4d00-b03d-1a4264efc7d2",
   "metadata": {},
   "outputs": [],
   "source": []
  },
  {
   "cell_type": "code",
   "execution_count": 190,
   "id": "f2349150-57a4-4f3f-9db8-dd3ac391dc8a",
   "metadata": {},
   "outputs": [],
   "source": [
    "new_data=pd.DataFrame([['ritz'\t,2014\t,5.59\t,27000\t,'Petrol'\t,'Dealer'\t,'Manual'\t,0]],columns=x_train.columns)\n"
   ]
  },
  {
   "cell_type": "code",
   "execution_count": 220,
   "id": "a0c4b780-2c98-4be4-9b62-cdb3bedf1b03",
   "metadata": {},
   "outputs": [
    {
     "data": {
      "text/html": [
       "<div>\n",
       "<style scoped>\n",
       "    .dataframe tbody tr th:only-of-type {\n",
       "        vertical-align: middle;\n",
       "    }\n",
       "\n",
       "    .dataframe tbody tr th {\n",
       "        vertical-align: top;\n",
       "    }\n",
       "\n",
       "    .dataframe thead th {\n",
       "        text-align: right;\n",
       "    }\n",
       "</style>\n",
       "<table border=\"1\" class=\"dataframe\">\n",
       "  <thead>\n",
       "    <tr style=\"text-align: right;\">\n",
       "      <th></th>\n",
       "      <th>Car_Name</th>\n",
       "      <th>Year</th>\n",
       "      <th>Present_Price</th>\n",
       "      <th>Kms_Driven</th>\n",
       "      <th>Fuel_Type</th>\n",
       "      <th>Seller_Type</th>\n",
       "      <th>Transmission</th>\n",
       "      <th>Owner</th>\n",
       "    </tr>\n",
       "  </thead>\n",
       "  <tbody>\n",
       "    <tr>\n",
       "      <th>0</th>\n",
       "      <td>1.074323</td>\n",
       "      <td>0.128897</td>\n",
       "      <td>-0.236215</td>\n",
       "      <td>-0.256224</td>\n",
       "      <td>0.500183</td>\n",
       "      <td>-0.737285</td>\n",
       "      <td>0.39148</td>\n",
       "      <td>-0.174501</td>\n",
       "    </tr>\n",
       "  </tbody>\n",
       "</table>\n",
       "</div>"
      ],
      "text/plain": [
       "   Car_Name      Year  Present_Price  Kms_Driven  Fuel_Type  Seller_Type  \\\n",
       "0  1.074323  0.128897      -0.236215   -0.256224   0.500183    -0.737285   \n",
       "\n",
       "   Transmission     Owner  \n",
       "0       0.39148 -0.174501  "
      ]
     },
     "execution_count": 220,
     "metadata": {},
     "output_type": "execute_result"
    }
   ],
   "source": [
    "new_data"
   ]
  },
  {
   "cell_type": "code",
   "execution_count": 222,
   "id": "7dc6f80d-43f5-41f7-9516-64f812b76306",
   "metadata": {},
   "outputs": [
    {
     "data": {
      "text/plain": [
       "array([3.7325])"
      ]
     },
     "execution_count": 222,
     "metadata": {},
     "output_type": "execute_result"
    }
   ],
   "source": [
    "rf.predict(new_data)   #to predict output of random forest"
   ]
  },
  {
   "cell_type": "code",
   "execution_count": 224,
   "id": "4dbae35c-55c3-42bc-a685-cc47dd9b8f6d",
   "metadata": {},
   "outputs": [
    {
     "data": {
      "text/plain": [
       "array([3.35])"
      ]
     },
     "execution_count": 224,
     "metadata": {},
     "output_type": "execute_result"
    }
   ],
   "source": [
    "dt.predict(new_data)     #to predict output of decision forest"
   ]
  },
  {
   "cell_type": "code",
   "execution_count": null,
   "id": "189a838e-d36e-44b8-b882-abbd7c3aa6cf",
   "metadata": {},
   "outputs": [],
   "source": [
    "# we will doing label encoding on new data"
   ]
  },
  {
   "cell_type": "code",
   "execution_count": null,
   "id": "aa2cac2f-2161-4433-baaf-a0bf928bd238",
   "metadata": {},
   "outputs": [],
   "source": []
  },
  {
   "cell_type": "code",
   "execution_count": 196,
   "id": "d5f08dd7-0fd2-424b-913d-620086a770dc",
   "metadata": {},
   "outputs": [],
   "source": [
    "new_data['Car_Name']=car_name_le.transform(new_data['Car_Name'])"
   ]
  },
  {
   "cell_type": "code",
   "execution_count": 204,
   "id": "bce93aca-4694-49c4-86ab-cd3d8c0b9280",
   "metadata": {},
   "outputs": [],
   "source": [
    "new_data['Fuel_Type']=fuel_type_le.transform(new_data['Fuel_Type'])"
   ]
  },
  {
   "cell_type": "code",
   "execution_count": null,
   "id": "72b62195-c9f4-4888-870e-7694c198b758",
   "metadata": {},
   "outputs": [],
   "source": []
  },
  {
   "cell_type": "code",
   "execution_count": 208,
   "id": "9b652f90-ceed-4b37-a2c7-8deb61ed93a9",
   "metadata": {},
   "outputs": [],
   "source": [
    "new_data['Seller_Type']=seller_type_le.transform(new_data['Seller_Type'])"
   ]
  },
  {
   "cell_type": "code",
   "execution_count": null,
   "id": "092373fd-f4d7-4957-a507-1137f42b9c54",
   "metadata": {},
   "outputs": [],
   "source": []
  },
  {
   "cell_type": "code",
   "execution_count": 212,
   "id": "2a81ae78-6e73-4809-8330-811a297dcd55",
   "metadata": {},
   "outputs": [],
   "source": [
    "new_data['Transmission']=Transmission_le.transform(new_data['Transmission'])"
   ]
  },
  {
   "cell_type": "code",
   "execution_count": null,
   "id": "96e7e49b-6b2b-4459-93c7-0e3674d333b7",
   "metadata": {},
   "outputs": [],
   "source": []
  },
  {
   "cell_type": "code",
   "execution_count": 218,
   "id": "172ddc5d-bb86-44ce-ad04-40e5bb052979",
   "metadata": {},
   "outputs": [],
   "source": [
    "new_data=pd.DataFrame(ss.transform(new_data),columns=new_data.columns)"
   ]
  },
  {
   "cell_type": "code",
   "execution_count": null,
   "id": "d900430e-6895-4d5f-ab08-8a7770745252",
   "metadata": {},
   "outputs": [],
   "source": []
  },
  {
   "cell_type": "code",
   "execution_count": null,
   "id": "42a1576b-c2e9-4d89-9e4e-149a5f7578be",
   "metadata": {},
   "outputs": [],
   "source": []
  }
 ],
 "metadata": {
  "kernelspec": {
   "display_name": "Python 3 (ipykernel)",
   "language": "python",
   "name": "python3"
  },
  "language_info": {
   "codemirror_mode": {
    "name": "ipython",
    "version": 3
   },
   "file_extension": ".py",
   "mimetype": "text/x-python",
   "name": "python",
   "nbconvert_exporter": "python",
   "pygments_lexer": "ipython3",
   "version": "3.12.4"
  }
 },
 "nbformat": 4,
 "nbformat_minor": 5
}
